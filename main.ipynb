{
 "cells": [
  {
   "cell_type": "markdown",
   "metadata": {},
   "source": [
    "# Scrapping riot api :D"
   ]
  },
  {
   "cell_type": "markdown",
   "metadata": {},
   "source": [
    "## Setting up\n",
    "Please obtain ur own api key from riot games dev website"
   ]
  },
  {
   "cell_type": "code",
   "execution_count": null,
   "metadata": {},
   "outputs": [],
   "source": [
    "#set up\n",
    "import requests\n",
    "import json\n",
    "import time\n",
    "import pandas as pd\n",
    "import random\n",
    "\n",
    "apiKey = \"ur api key here\"\n",
    "\n",
    "#for reproducability\n",
    "seed = 99\n",
    "random.seed(seed)"
   ]
  },
  {
   "cell_type": "markdown",
   "metadata": {},
   "source": [
    "## Getting the sum id of players in a reigon using league v4"
   ]
  },
  {
   "cell_type": "code",
   "execution_count": null,
   "metadata": {},
   "outputs": [],
   "source": [
    "def summPuller(division,tier,page):\n",
    "    import pandas as pd\n",
    "    \n",
    "    url = \"https://na1.api.riotgames.com/lol/league/v4/entries/RANKED_SOLO_5x5/{}/{}?page={}&api_key={}\".format(division, tier, page, apiKey)\n",
    "    listProfiles = requests.get(url).json()\n",
    "    profileNum = len(listProfiles)\n",
    "    listSumID = []\n",
    "    csvName = division + \"summID.csv\"\n",
    "    for profile in range(0,profileNum):\n",
    "        listSumID.append(listProfiles[profile][\"summonerId\"])\n",
    "        \n",
    "    df = pd.DataFrame(listSumID,columns = [\"ID\"])\n",
    "    df.to_csv(csvName,mode = 'a')\n",
    "\n",
    "divs = [\"IRON\", \"GOLD\", \"DIAMOND\"]\n",
    "tiers = [\"I\",\"II\",\"III\",\"IV\"]\n",
    "for div in divs:\n",
    "    time.sleep(5)\n",
    "    for i in tiers:\n",
    "        for page in range(1,5):\n",
    "            time.sleep(2)\n",
    "            summPuller(div,i,page)"
   ]
  },
  {
   "cell_type": "markdown",
   "metadata": {},
   "source": [
    "## Now we change those encrypted ids to locate the actual id of the player using summoner v4"
   ]
  },
  {
   "cell_type": "code",
   "execution_count": null,
   "metadata": {},
   "outputs": [],
   "source": [
    "ironSummID = pd.read_csv(\"IRONsummID.csv\")\n",
    "goldSummID = pd.read_csv(\"GOLDsummID.csv\")\n",
    "diaSummID = pd.read_csv(\"DIAMONDsummID.csv\")\n",
    "ironAccs = []\n",
    "goldAccs = []\n",
    "diaAccs = []\n",
    "\n",
    "def idPuller(id,accList):\n",
    "    url = \"https://na1.api.riotgames.com/lol/summoner/v4/summoners/{}?api_key={}\".format(id, apiKey)\n",
    "    info = requests.get(url).json()\n",
    "    accList.append(info[\"puuid\"])\n",
    "\n",
    "iron100 = ironSummID.sample(n = 100, random_state = seed)\n",
    "gold100 = goldSummID.sample(n = 100, random_state = seed)\n",
    "dia100 = diaSummID.sample(n = 100, random_state = seed)\n",
    "\n",
    "ironSummIDList = iron100[\"ID\"]\n",
    "goldSummIDList = gold100[\"ID\"]\n",
    "diaSummIDList = dia100[\"ID\"]\n",
    "\n",
    "# sleep time is needed to respect riot's rate limit\n",
    "i = 0\n",
    "for id in ironSummIDList:\n",
    "    i+= 1\n",
    "    print(i)\n",
    "    idPuller(id, ironAccs)\n",
    "time.sleep(120)\n",
    "i = 0\n",
    "for id in goldSummIDList:\n",
    "    i+= 1\n",
    "    print(i)\n",
    "    idPuller(id, goldAccs)\n",
    "time.sleep(120)\n",
    "i = 0\n",
    "for id in diaSummIDList:\n",
    "    i+= 1\n",
    "    print(i)\n",
    "    idPuller(id, diaAccs)\n",
    "time.sleep(120)"
   ]
  },
  {
   "cell_type": "markdown",
   "metadata": {},
   "source": [
    "### Converting to csv once again"
   ]
  },
  {
   "cell_type": "code",
   "execution_count": null,
   "metadata": {},
   "outputs": [],
   "source": [
    "df = pd.DataFrame(ironAccs, columns = [\"puuid\"])\n",
    "df.to_csv('ironAccID.csv',mode = 'a')\n",
    "\n",
    "df = pd.DataFrame(goldAccs, columns = [\"puuid\"])\n",
    "df.to_csv('goldAccID.csv',mode = 'a')\n",
    "\n",
    "df = pd.DataFrame(diaAccs, columns = [\"puuid\"])\n",
    "df.to_csv('diaAccID.csv',mode = 'a')\n"
   ]
  },
  {
   "cell_type": "markdown",
   "metadata": {},
   "source": [
    "## Now we pull matches from those players using match v5"
   ]
  },
  {
   "cell_type": "code",
   "execution_count": null,
   "metadata": {},
   "outputs": [],
   "source": [
    "ironMatchIDList = []\n",
    "goldMatchIDList = []\n",
    "diaMatchIDList = []\n",
    "\n",
    "def matchPuller(id, matchList):\n",
    "    url = \"https://americas.api.riotgames.com/lol/match/v5/matches/by-puuid/{}/ids?type=ranked&start=0&count=5&api_key={}\".format(id, apiKey)\n",
    "    response = requests.get(url).json()\n",
    "    for i in range(0,5):        \n",
    "            match_id = response[i]\n",
    "            matchList.append(match_id)\n",
    "\n",
    "i = 0\n",
    "for id in ironAccs:\n",
    "    i+= 1\n",
    "    if i == 100:\n",
    "         time.sleep(120)\n",
    "    print(i)\n",
    "    matchPuller(id, ironMatchIDList)\n",
    "time.sleep(120)\n",
    "\n",
    "i = 0\n",
    "for id in goldAccs:\n",
    "    i+= 1\n",
    "    if i == 100:\n",
    "         time.sleep(120)\n",
    "    print(i)\n",
    "    matchPuller(id, goldMatchIDList)\n",
    "time.sleep(120)\n",
    "\n",
    "i = 0\n",
    "for id in diaAccs:\n",
    "    i+= 1\n",
    "    if i == 100:\n",
    "         time.sleep(120)\n",
    "    print(i)\n",
    "    matchPuller(id, diaMatchIDList)\n"
   ]
  },
  {
   "cell_type": "markdown",
   "metadata": {},
   "source": [
    "### Converting to csv"
   ]
  },
  {
   "cell_type": "code",
   "execution_count": null,
   "metadata": {},
   "outputs": [],
   "source": [
    "df = pd.DataFrame(ironMatchIDList, columns = [\"matchID\"])\n",
    "df.to_csv('ironMatches.csv',mode = 'a')\n",
    "\n",
    "df = pd.DataFrame(goldMatchIDList, columns = [\"matchID\"])\n",
    "df.to_csv('goldMatches.csv',mode = 'a')\n",
    "\n",
    "df = pd.DataFrame(diaMatchIDList, columns = [\"matchID\"])\n",
    "df.to_csv('diaMatches.csv',mode = 'a')\n"
   ]
  },
  {
   "cell_type": "markdown",
   "metadata": {},
   "source": [
    "## Function for getting overall data of the match using match v5"
   ]
  },
  {
   "cell_type": "code",
   "execution_count": null,
   "metadata": {},
   "outputs": [],
   "source": [
    "def getMatchData(matchID):\n",
    "    url = f\"https://americas.api.riotgames.com/lol/match/v5/matches/{matchID}?api_key={apiKey}\"\n",
    "    matchResponse = requests.get(url).json()\n",
    "    match_data = []\n",
    "\n",
    "    teams = matchResponse[\"info\"][\"teams\"]\n",
    "    participants = matchResponse[\"info\"][\"participants\"]\n",
    "\n",
    "    game_duration = matchResponse[\"info\"][\"gameDuration\"]\n",
    "    match_id = matchResponse[\"metadata\"][\"matchId\"]\n",
    "\n",
    "    for team in teams:\n",
    "        team_id = team[\"teamId\"]\n",
    "        is_winner = team[\"win\"]\n",
    "\n",
    "        team_stats = {\n",
    "            \"match_id\": match_id,\n",
    "            \"team_id\": team_id,\n",
    "            \"is_winner\": is_winner,\n",
    "            \"game_duration\": game_duration,\n",
    "            \"tower_kills\": team[\"objectives\"][\"tower\"][\"kills\"],\n",
    "            \"dragon_kills\": team[\"objectives\"][\"dragon\"][\"kills\"],\n",
    "            \"baron_kills\": team[\"objectives\"][\"baron\"][\"kills\"],\n",
    "        }\n",
    "\n",
    "        team_participants = [p for p in participants if p[\"teamId\"] == team_id]\n",
    "        total_kills = sum(p[\"kills\"] for p in team_participants)\n",
    "        total_assists = sum(p[\"assists\"] for p in team_participants)\n",
    "        total_deaths = sum(p[\"deaths\"] for p in team_participants)\n",
    "        total_damage_dealt = sum(p[\"totalDamageDealtToChampions\"] for p in team_participants)\n",
    "        total_gold_earned = sum(p[\"goldEarned\"] for p in team_participants)\n",
    "        total_minions_killed = sum(p[\"totalMinionsKilled\"] for p in team_participants)\n",
    "        total_time_cc_dealt = sum(p[\"timeCCingOthers\"] for p in team_participants)\n",
    "        total_time_played = sum(p[\"timePlayed\"] for p in team_participants)\n",
    "        had_afk_teammates = any(p.get(\"gameEndedInEarlySurrender\", False) for p in team_participants)\n",
    "        total_scuttle_crab_kills = sum(p[\"challenges\"].get(\"scuttleCrabKills\", 0) for p in team_participants)\n",
    "        total_ward_takedowns = sum(p[\"challenges\"].get(\"wardsTakedown\", 0) for p in team_participants)\n",
    "        total_wards_placed = sum(p[\"wardsPlaced\"] for p in team_participants)\n",
    "\n",
    "        team_stats.update({\n",
    "            \"total_kills\": total_kills,\n",
    "            \"total_assists\": total_assists,\n",
    "            \"total_deaths\": total_deaths,\n",
    "            \"total_damage_dealt\": total_damage_dealt,\n",
    "            \"total_gold_earned\": total_gold_earned,\n",
    "            \"total_minions_killed\": total_minions_killed,\n",
    "            \"total_time_cc_dealt\": total_time_cc_dealt,\n",
    "            \"total_time_played\": total_time_played,\n",
    "            \"had_afk_teammates\": had_afk_teammates,\n",
    "            \"total_scuttle_crab_kills\": total_scuttle_crab_kills,\n",
    "            \"total_ward_takedowns\": total_ward_takedowns,\n",
    "            \"total_wards_placed\": total_wards_placed,\n",
    "        })\n",
    "\n",
    "        match_data.append(team_stats)\n",
    "\n",
    "    return match_data"
   ]
  },
  {
   "cell_type": "markdown",
   "metadata": {},
   "source": [
    "## Function for getting match data at 15 min mark using match v5"
   ]
  },
  {
   "cell_type": "code",
   "execution_count": null,
   "metadata": {},
   "outputs": [],
   "source": [
    "import json\n",
    "import pandas as pd\n",
    "import requests\n",
    "\n",
    "def get15min_data(matchID):\n",
    "    url = f\"https://americas.api.riotgames.com/lol/match/v5/matches/{matchID}/timeline?api_key={apiKey}\"\n",
    "    timeline_json = requests.get(url).json()\n",
    "    match_id = timeline_json[\"metadata\"][\"matchId\"]\n",
    "    frames = timeline_json[\"info\"][\"frames\"]\n",
    "\n",
    "    team1_stats = {\"match_id\": match_id, \"team_id\": 100, \"gold15\": 0, \"damage_done15\": 0, \"kills15\": 0, \"cs15\": 0}\n",
    "    team2_stats = {\"match_id\": match_id, \"team_id\": 200, \"gold15\": 0, \"damage_done15\": 0, \"kills15\": 0, \"cs15\": 0}\n",
    "\n",
    "    if len(frames) < 15:\n",
    "       return [team1_stats, team2_stats]\n",
    "    \n",
    "\n",
    "    frame_15 = frames[14][\"participantFrames\"]\n",
    "    \n",
    "    for participant_id, data in frame_15.items():\n",
    "        participant_id = int(participant_id)\n",
    "        team = 1 if participant_id <= 5 else 2\n",
    "        \n",
    "        gold = data[\"totalGold\"]\n",
    "        damage_done = data[\"damageStats\"][\"totalDamageDoneToChampions\"]\n",
    "        kills = data[\"damageStats\"][\"totalDamageTaken\"]\n",
    "        cs = data[\"minionsKilled\"] + data[\"jungleMinionsKilled\"]\n",
    "        \n",
    "        if team == 1:\n",
    "            team1_stats[\"gold15\"] += gold\n",
    "            team1_stats[\"damage_done15\"] += damage_done\n",
    "            team1_stats[\"kills15\"] += kills\n",
    "            team1_stats[\"cs15\"] += cs\n",
    "        else:\n",
    "            team2_stats[\"gold15\"] += gold\n",
    "            team2_stats[\"damage_done15\"] += damage_done\n",
    "            team2_stats[\"kills15\"] += kills\n",
    "            team2_stats[\"cs15\"] += cs\n",
    "    return [team1_stats, team2_stats]"
   ]
  },
  {
   "cell_type": "markdown",
   "metadata": {},
   "source": [
    "### Conversion to csv"
   ]
  },
  {
   "cell_type": "code",
   "execution_count": null,
   "metadata": {},
   "outputs": [],
   "source": [
    "t = pd.read_csv(\"ironMatches.csv\")\n",
    "ironMatchIDList = t['matchID'].tolist()\n",
    "t = pd.read_csv(\"goldMatches.csv\")\n",
    "goldMatchIDList= t['matchID'].tolist()\n",
    "t = pd.read_csv(\"diaMatches.csv\")\n",
    "diaMatchIDList= t['matchID'].tolist()"
   ]
  },
  {
   "cell_type": "code",
   "execution_count": null,
   "metadata": {},
   "outputs": [],
   "source": [
    "ironMatchdata = []\n",
    "ironMatchData15 = []\n",
    "\n",
    "goldMatchdata = []\n",
    "goldMatchData15 = []\n",
    "\n",
    "diaMatchdata = []\n",
    "diaMatchData15 = []"
   ]
  },
  {
   "cell_type": "markdown",
   "metadata": {},
   "source": [
    "## Actually getting the match data and data at 15 min and combining"
   ]
  },
  {
   "cell_type": "code",
   "execution_count": null,
   "metadata": {},
   "outputs": [],
   "source": [
    "i = 0\n",
    "for id in ironMatchIDList:\n",
    "    i+= 1\n",
    "    if i % 80 == 0:\n",
    "         time.sleep(120)\n",
    "    ironMatchdata.extend(getMatchData(id))\n",
    "    time.sleep(2)\n",
    "    ironMatchData15.extend(get15min_data(id))\n",
    "    time.sleep(2)\n",
    "time.sleep(120)\n",
    "\n",
    "ironDF = pd.DataFrame(ironMatchdata)\n",
    "ironDF15 = pd.DataFrame(ironMatchData15)\n",
    "ironComb = pd.merge(ironDF,ironDF15, on = [\"match_id\", \"team_id\"], how=\"inner\")\n",
    "ironComb.to_csv(\"ironCombData.csv\", index=False)"
   ]
  },
  {
   "cell_type": "code",
   "execution_count": null,
   "metadata": {},
   "outputs": [],
   "source": [
    "i = 0\n",
    "for id in goldMatchIDList:\n",
    "    i+= 1\n",
    "    if i % 80 == 0:\n",
    "         time.sleep(120)\n",
    "    goldMatchdata.extend(getMatchData(id))\n",
    "    time.sleep(2)\n",
    "    goldMatchData15.extend(get15min_data(id))  \n",
    "    time.sleep(2)\n",
    "time.sleep(120)\n",
    "\n",
    "goldDF = pd.DataFrame(goldMatchdata)\n",
    "goldDF15 = pd.DataFrame(goldMatchData15)\n",
    "goldComb = pd.merge(goldDF,goldDF15, on = [\"match_id\", \"team_id\"], how=\"inner\")\n",
    "goldComb.to_csv(\"goldCombData.csv\", index=False)"
   ]
  },
  {
   "cell_type": "code",
   "execution_count": null,
   "metadata": {},
   "outputs": [],
   "source": [
    "i = 0\n",
    "for id in diaMatchIDList:\n",
    "    i+= 1\n",
    "    if i % 80 == 0:\n",
    "         time.sleep(120)\n",
    "    diaMatchdata.extend(getMatchData(id))\n",
    "    time.sleep(2)\n",
    "    diaMatchData15.extend(get15min_data(id)) \n",
    "    time.sleep(2)\n",
    "\n",
    "diaDF = pd.DataFrame(diaMatchdata)\n",
    "diaDF15 = pd.DataFrame(diaMatchData15)\n",
    "diaComb = pd.merge(diaDF,diaDF15, on = [\"match_id\", \"team_id\"], how=\"inner\")\n",
    "diaComb.to_csv(\"dianCombData.csv\", index=False)"
   ]
  }
 ],
 "metadata": {
  "kernelspec": {
   "display_name": "Python 3",
   "language": "python",
   "name": "python3"
  },
  "language_info": {
   "codemirror_mode": {
    "name": "ipython",
    "version": 3
   },
   "file_extension": ".py",
   "mimetype": "text/x-python",
   "name": "python",
   "nbconvert_exporter": "python",
   "pygments_lexer": "ipython3",
   "version": "3.12.7"
  }
 },
 "nbformat": 4,
 "nbformat_minor": 2
}
